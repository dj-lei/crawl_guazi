{
 "cells": [
  {
   "cell_type": "code",
   "execution_count": 1,
   "metadata": {},
   "outputs": [],
   "source": [
    "import re\n",
    "import time\n",
    "import json\n",
    "import redis\n",
    "import scrapy\n",
    "import datetime\n",
    "import pandas as pd\n",
    "import codecs\n",
    "from lxml import etree\n",
    "\n",
    "from sqlalchemy import create_engine\n",
    "from selenium import webdriver\n",
    "\n",
    "pool = redis.ConnectionPool(host='172.17.0.2', port=6379, decode_responses=True, db=1, password='De32wsxC')\n",
    "redis_con = redis.Redis(connection_pool=pool)"
   ]
  },
  {
   "cell_type": "code",
   "execution_count": 2,
   "metadata": {},
   "outputs": [],
   "source": [
    "def assemble_list():\n",
    "    \"\"\"\n",
    "    组合list\n",
    "    \"\"\"\n",
    "    head = 'https://www.lagou.com/jobs/list_?px=new&gx=兼职&city='\n",
    "    city = pd.read_csv('../crawl_lagou/tmp/city.csv')\n",
    "    # 清空数据库\n",
    "    redis_con.flushdb()\n",
    "    for i in range(0, len(city)):\n",
    "        city_name = city['city'][i]\n",
    "        url = head + city_name + '#filterBox'\n",
    "        redis_con.sadd('lagou_list', url)"
   ]
  },
  {
   "cell_type": "code",
   "execution_count": 61,
   "metadata": {},
   "outputs": [],
   "source": [
    "firefox_profile = webdriver.FirefoxProfile()\n",
    "firefox_profile.set_preference('permissions.default.stylesheet', 2)\n",
    "firefox_profile.set_preference('permissions.default.image', 2)\n",
    "firefox_profile.set_preference('dom.ipc.plugins.enabled.libflashplayer.so', 'false')\n",
    "\n",
    "# driver = webdriver.Firefox(firefox_profile=firefox_profile)\n",
    "driver = webdriver.Firefox()\n",
    "# driver.set_page_load_timeout(5)\n",
    "\n",
    "urls = {\n",
    "    'login': 'https://passport.lagou.com/login/login.html?service=https%3a%2f%2fwww.lagou.com%2f',\n",
    "    'city': 'https://www.lagou.com/jobs/allCity.html',\n",
    "    'category': 'https://www.lagou.com/jobs/list_?px=new&gx=兼职&city=成都#filterBox'\n",
    "}\n",
    "driver.get(urls['login'])\n",
    "elem=driver.find_elements_by_xpath(\"//input[@class='input input_white']\")[0]\n",
    "elem.send_keys('18349125880')\n",
    "elem=driver.find_elements_by_xpath(\"//input[@class='input input_white']\")[1]\n",
    "elem.send_keys('ldj6692240')"
   ]
  },
  {
   "cell_type": "code",
   "execution_count": 49,
   "metadata": {},
   "outputs": [],
   "source": [
    "driver.get(urls['city'])\n",
    "\n",
    "cities = driver.find_elements_by_xpath(\"//ul[@class='city_list']/li/a\")\n",
    "city = []\n",
    "for i in range(0, len(cities)):\n",
    "    city.append(cities[i].text)\n",
    "\n",
    "cities = pd.DataFrame(pd.Series(city), columns=['city'])\n",
    "cities.to_csv('../crawl_lagou/tmp/city.csv', index=False)\n",
    "assemble_list()\n",
    "result = pd.DataFrame([],columns=['work_name','city','zone','work_href','publish_time','money','require','company_name','company_href',\n",
    "                                 'industry','work_desc_simple','work_advantage'])"
   ]
  },
  {
   "cell_type": "code",
   "execution_count": 56,
   "metadata": {},
   "outputs": [],
   "source": [
    "while True:\n",
    "    url = redis_con.spop('lagou_list')\n",
    "    if url == None:\n",
    "        break\n",
    "    driver.get(url)\n",
    "    time.sleep(2)\n",
    "    is_null = driver.find_elements_by_xpath(\"//span[@class='span totalNum']\")\n",
    "    if int(is_null[0].text) == 0:\n",
    "        continue\n",
    "\n",
    "    while True:\n",
    "        elem=driver.find_elements_by_xpath(\"//li[@class='con_list_item first_row default_list']\")\n",
    "        elem.extend(driver.find_elements_by_xpath(\"//li[@class='con_list_item default_list']\"))\n",
    "        temp = pd.DataFrame([],columns=['work_name','city','zone','work_href','publish_time','money','require','company_name','company_href',\n",
    "                                     'industry','work_desc_simple','work_advantage'])\n",
    "        for i in range(0,len(elem)):\n",
    "            temp.loc[i,'work_name'] = elem[i].find_elements_by_xpath(\".//a[@class='position_link']/h3\")[0].text\n",
    "            temp['city'][i] = re.findall('city=(.*)#',url)[0]\n",
    "            temp['zone'][i] = elem[i].find_elements_by_xpath(\".//a[@class='position_link']/span/em\")[0].text\n",
    "            temp['work_href'][i] = elem[i].find_elements_by_xpath(\".//a[@class='position_link']\")[0].get_attribute('href')\n",
    "            temp['publish_time'][i] = elem[i].find_elements_by_xpath(\".//span[@class='format-time']\")[0].text\n",
    "            temp['money'][i] = elem[i].find_elements_by_xpath(\".//span[@class='money']\")[0].text\n",
    "            temp['require'][i] = elem[i].find_elements_by_xpath(\".//div[@class='p_bot']/div\")[0].text\n",
    "            temp['company_name'][i] = elem[i].find_elements_by_xpath(\".//div[@class='company_name']/a\")[0].text\n",
    "            temp['company_href'][i] = elem[i].find_elements_by_xpath(\".//div[@class='company_name']/a\")[0].get_attribute('href')\n",
    "            temp['industry'][i] = elem[i].find_elements_by_xpath(\".//div[@class='industry']\")[0].text\n",
    "            work_desc_simple = elem[i].find_elements_by_xpath(\".//div[@class='list_item_bot']/div[1]/span\")\n",
    "            work_desc_simple = [desc.text for desc in work_desc_simple]\n",
    "            temp['work_desc_simple'][i] = work_desc_simple\n",
    "            temp['work_advantage'][i] = elem[i].find_elements_by_xpath(\".//div[@class='list_item_bot']/div[2]\")[0].text\n",
    "        result = result.append(temp,sort=False).reset_index(drop=True)\n",
    "        next_page=driver.find_elements_by_xpath(\"//span[@class='pager_next ']\")\n",
    "        if len(next_page) > 0:\n",
    "            next_page[0].click()\n",
    "            time.sleep(2)\n",
    "        else:\n",
    "            break\n",
    "#     print(work_name,zone,href,publish_time,money,reqire,company_name,company_href,industry,work_desc_simple,work_advantage)"
   ]
  },
  {
   "cell_type": "code",
   "execution_count": 57,
   "metadata": {},
   "outputs": [],
   "source": [
    "driver.close()"
   ]
  },
  {
   "cell_type": "code",
   "execution_count": 59,
   "metadata": {
    "scrolled": true
   },
   "outputs": [],
   "source": [
    "result.to_csv('../crawl_lagou/tmp/兼职.csv',index=False)"
   ]
  }
 ],
 "metadata": {
  "kernelspec": {
   "display_name": "Python 3",
   "language": "python",
   "name": "python3"
  },
  "language_info": {
   "codemirror_mode": {
    "name": "ipython",
    "version": 3
   },
   "file_extension": ".py",
   "mimetype": "text/x-python",
   "name": "python",
   "nbconvert_exporter": "python",
   "pygments_lexer": "ipython3",
   "version": "3.5.2"
  }
 },
 "nbformat": 4,
 "nbformat_minor": 2
}
