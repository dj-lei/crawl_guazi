{
 "cells": [
  {
   "cell_type": "code",
   "execution_count": 15,
   "metadata": {},
   "outputs": [],
   "source": [
    "import re\n",
    "import json\n",
    "import codecs\n",
    "import requests\n",
    "import pandas as pd\n",
    "from lxml import etree"
   ]
  },
  {
   "cell_type": "code",
   "execution_count": 47,
   "metadata": {},
   "outputs": [],
   "source": [
    "url = 'https://m.guazi.com/ajax.php?dir=vehicle&module=GetSelectCity&pageType=list'\n",
    "\n",
    "header = {\n",
    "    \"User-Agent\": \"Mozilla/5.0 (iPhone; CPU iPhone OS 12_0 like Mac OS X) AppleWebKit/604.1.38 (KHTML, like Gecko) Version/12.0 Mobile/15A372 Safari/604.1\",\n",
    "    \"cookie\": \"rfnl=https://m.guazi.com/cd/?ca_s=pz_baidu&ca_n=tbmkbturl; antipas=4221403C87u50S537w24459\"\n",
    "}\n",
    "\n",
    "result = requests.get(url=url,headers=header)\n",
    "\n",
    "filename = '../crawl_guazi/tmp/man.html'\n",
    "with open(filename, 'wb') as f:\n",
    "    f.write(result.content)"
   ]
  },
  {
   "cell_type": "code",
   "execution_count": 50,
   "metadata": {},
   "outputs": [
    {
     "data": {
      "text/plain": [
       "{'Accept': '*/*', 'Connection': 'keep-alive', 'Accept-Encoding': 'gzip, deflate', 'User-Agent': 'Mozilla/5.0 (iPhone; CPU iPhone OS 12_0 like Mac OS X) AppleWebKit/604.1.38 (KHTML, like Gecko) Version/12.0 Mobile/15A372 Safari/604.1', 'cookie': 'rfnl=https://m.guazi.com/cd/?ca_s=pz_baidu&ca_n=tbmkbturl; antipas=4221403C87u50S537w24459'}"
      ]
     },
     "execution_count": 50,
     "metadata": {},
     "output_type": "execute_result"
    }
   ],
   "source": [
    "result.request."
   ]
  },
  {
   "cell_type": "code",
   "execution_count": 5,
   "metadata": {},
   "outputs": [],
   "source": [
    "from lxml import etree\n",
    "tree = etree.HTML(result.content)"
   ]
  },
  {
   "cell_type": "code",
   "execution_count": 6,
   "metadata": {},
   "outputs": [
    {
     "data": {
      "text/plain": [
       "'大众 朗逸 2013款 改款经典 1.6L 自动舒适版'"
      ]
     },
     "execution_count": 6,
     "metadata": {},
     "output_type": "execute_result"
    }
   ],
   "source": [
    "tree.xpath(\"//h1[@class='product-title']/text()\")[1].replace('\\n', '').replace('  ', '')"
   ]
  },
  {
   "cell_type": "code",
   "execution_count": 31,
   "metadata": {},
   "outputs": [],
   "source": [
    "# 转换cookie\n",
    "result = dict()\n",
    "\n",
    "cookie = 'uuid=8bd5e963-82db-4f8a-ab8f-7298943d7320; sessionid=538e1103-27c5-40b8-dbd1-3acd69bcfb22; cityDomain=cd; antipas=4221f4N038X7p5053S7X24L4h59; cainfo=%7B%22ca_s%22%3A%22self%22%2C%22ca_n%22%3A%22self%22%2C%22ca_i%22%3A%22-%22%2C%22ca_medium%22%3A%22-%22%2C%22ca_term%22%3A%22-%22%2C%22ca_kw%22%3A%22-%22%2C%22keyword%22%3A%22-%22%2C%22ca_keywordid%22%3A%22-%22%2C%22scode%22%3A%22-%22%2C%22ca_b%22%3A%22-%22%2C%22ca_a%22%3A%22-%22%2C%22display_finance_flag%22%3A%22-%22%2C%22platform%22%3A%222%22%2C%22version%22%3A1%2C%22client_ab%22%3A%22-%22%2C%22guid%22%3A%228bd5e963-82db-4f8a-ab8f-7298943d7320%22%2C%22sessionid%22%3A%22538e1103-27c5-40b8-dbd1-3acd69bcfb22%22%7D; clueSourceCode=%2A%2300; user_city_id=45; preTime=%7B%22last%22%3A1557036165%2C%22this%22%3A1557036165%2C%22pre%22%3A1557036165%7D; cityGuideVersion=A; __utmganji_v20110909=3aae543d-1519-4812-ae9c-da69e688ef02; cityGuideInfo=2019-5-5%231; chg_city=1'\n",
    "cookie = cookie.replace(' ','').split(';')\n",
    "for i in range(0,len(cookie)):\n",
    "    temp = cookie[i].split('=')\n",
    "    result[temp[0]] = temp[1]"
   ]
  },
  {
   "cell_type": "code",
   "execution_count": 32,
   "metadata": {},
   "outputs": [
    {
     "data": {
      "text/plain": [
       "{'__utmganji_v20110909': '3aae543d-1519-4812-ae9c-da69e688ef02',\n",
       " 'antipas': '4221f4N038X7p5053S7X24L4h59',\n",
       " 'cainfo': '%7B%22ca_s%22%3A%22self%22%2C%22ca_n%22%3A%22self%22%2C%22ca_i%22%3A%22-%22%2C%22ca_medium%22%3A%22-%22%2C%22ca_term%22%3A%22-%22%2C%22ca_kw%22%3A%22-%22%2C%22keyword%22%3A%22-%22%2C%22ca_keywordid%22%3A%22-%22%2C%22scode%22%3A%22-%22%2C%22ca_b%22%3A%22-%22%2C%22ca_a%22%3A%22-%22%2C%22display_finance_flag%22%3A%22-%22%2C%22platform%22%3A%222%22%2C%22version%22%3A1%2C%22client_ab%22%3A%22-%22%2C%22guid%22%3A%228bd5e963-82db-4f8a-ab8f-7298943d7320%22%2C%22sessionid%22%3A%22538e1103-27c5-40b8-dbd1-3acd69bcfb22%22%7D',\n",
       " 'chg_city': '1',\n",
       " 'cityDomain': 'cd',\n",
       " 'cityGuideInfo': '2019-5-5%231',\n",
       " 'cityGuideVersion': 'A',\n",
       " 'clueSourceCode': '%2A%2300',\n",
       " 'preTime': '%7B%22last%22%3A1557036165%2C%22this%22%3A1557036165%2C%22pre%22%3A1557036165%7D',\n",
       " 'sessionid': '538e1103-27c5-40b8-dbd1-3acd69bcfb22',\n",
       " 'user_city_id': '45',\n",
       " 'uuid': '8bd5e963-82db-4f8a-ab8f-7298943d7320'}"
      ]
     },
     "execution_count": 32,
     "metadata": {},
     "output_type": "execute_result"
    }
   ],
   "source": [
    "result"
   ]
  },
  {
   "cell_type": "code",
   "execution_count": 24,
   "metadata": {},
   "outputs": [
    {
     "data": {
      "text/plain": [
       "{'cainfo': '%7B%22ca_s%22%3A%22pz_baidu%22%2C%22ca_n%22%3A%22tbmkbturl%22%2C%22ca_i%22%3A%22-%22%2C%22ca_medium%22%3A%22-%22%2C%22ca_term%22%3A%22-%22%2C%22ca_kw%22%3A%22-%22%2C%22keyword%22%3A%22-%22%2C%22ca_keywordid%22%3A%22-%22%2C%22scode%22%3A%22-%22%2C%22ca_b%22%3A%22-%22%2C%22ca_a%22%3A%22-%22%2C%22display_finance_flag%22%3A%22-%22%2C%22platform%22%3A%222%22%2C%22version%22%3A1%2C%22client_ab%22%3A%22-%22%2C%22guid%22%3A%22e3416d13-33ac-4778-bbcc-b70008484120%22%7D',\n",
       " 'cityDomain': 'cd',\n",
       " 'cityGuideVersion': 'A',\n",
       " 'clueSourceCode': '%2A%2300',\n",
       " 'preTime': '%7B%22last%22%3A1557035406%2C%22this%22%3A1557035406%2C%22pre%22%3A1557035406%7D',\n",
       " 'user_city_id': '45',\n",
       " 'uuid': 'e3416d13-33ac-4778-bbcc-b70008484120'}"
      ]
     },
     "execution_count": 24,
     "metadata": {},
     "output_type": "execute_result"
    }
   ],
   "source": [
    "test = {'user_city_id': '45', 'preTime': '%7B%22last%22%3A1557035406%2C%22this%22%3A1557035406%2C%22pre%22%3A1557035406%7D', 'cainfo': '%7B%22ca_s%22%3A%22pz_baidu%22%2C%22ca_n%22%3A%22tbmkbturl%22%2C%22ca_i%22%3A%22-%22%2C%22ca_medium%22%3A%22-%22%2C%22ca_term%22%3A%22-%22%2C%22ca_kw%22%3A%22-%22%2C%22keyword%22%3A%22-%22%2C%22ca_keywordid%22%3A%22-%22%2C%22scode%22%3A%22-%22%2C%22ca_b%22%3A%22-%22%2C%22ca_a%22%3A%22-%22%2C%22display_finance_flag%22%3A%22-%22%2C%22platform%22%3A%222%22%2C%22version%22%3A1%2C%22client_ab%22%3A%22-%22%2C%22guid%22%3A%22e3416d13-33ac-4778-bbcc-b70008484120%22%7D', 'cityGuideVersion': 'A', 'cityDomain': 'cd', 'uuid': 'e3416d13-33ac-4778-bbcc-b70008484120', 'clueSourceCode': '%2A%2300'}\n",
    "test"
   ]
  },
  {
   "cell_type": "code",
   "execution_count": 27,
   "metadata": {},
   "outputs": [],
   "source": [
    "import requests\n",
    "url = 'https://m.guazi.com/cd/?ca_s=pz_baidu&ca_n=tbmkbturl'\n",
    "\n",
    "header = {\n",
    "    \"Accept\": \"text/html,application/xhtml+xml,application/xml;q=0.9,*/*;q=0.8\",\n",
    "    \"Accept-Encoding\": \"gzip, deflate, br\",\n",
    "    \"Accept-Language\": \"en-US,en;q=0.5\",\n",
    "    \"Connection\": \"keep-alive\",\n",
    "    \"cookie\": \"rfnl=https://m.guazi.com/cd/?ca_s=pz_baidu&ca_n=tbmkbturl; antipas=4221403C87u50S537w24459\",\n",
    "    \"Host\": \"m.guazi.com\",\n",
    "    \"Referer\": \"https://m.guazi.com/cd/?ca_s=pz_baidu&ca_n=tbmkbturl&scode=10103000312\",\n",
    "    \"Upgrade-Insecure-Requests\": \"1\",\n",
    "    \"User-Agent\": \"Mozilla/5.0 (iPhone; CPU iPhone OS 12_0 like Mac OS X) AppleWebKit/604.1.38 (KHTML, like Gecko) Version/12.0 Mobile/15A372 Safari/604.1\"\n",
    "}\n",
    "\n",
    "result = requests.get(url=url,headers=header)\n",
    "\n",
    "# filename = '../crawl_guazi/tmp/man.html'\n",
    "# with open(filename, 'wb') as f:\n",
    "#     f.write(result.content)"
   ]
  },
  {
   "cell_type": "code",
   "execution_count": 28,
   "metadata": {},
   "outputs": [
    {
     "data": {
      "text/plain": [
       "<RequestsCookieJar[Cookie(version=0, name='cainfo', value='%7B%22ca_s%22%3A%22pz_baidu%22%2C%22ca_n%22%3A%22tbmkbturl%22%2C%22ca_i%22%3A%22-%22%2C%22ca_medium%22%3A%22-%22%2C%22ca_term%22%3A%22-%22%2C%22ca_kw%22%3A%22-%22%2C%22keyword%22%3A%22-%22%2C%22ca_keywordid%22%3A%22-%22%2C%22scode%22%3A%22-%22%2C%22ca_b%22%3A%22-%22%2C%22ca_a%22%3A%22-%22%2C%22display_finance_flag%22%3A%22-%22%2C%22platform%22%3A%222%22%2C%22version%22%3A1%2C%22client_ab%22%3A%22-%22%2C%22guid%22%3A%22ee76e59c-2d5c-4ee7-b3a0-716758e85074%22%7D', port=None, port_specified=False, domain='.guazi.com', domain_specified=True, domain_initial_dot=True, path='/', path_specified=True, secure=False, expires=1588572722, discard=False, comment=None, comment_url=None, rest={}, rfc2109=False), Cookie(version=0, name='cityDomain', value='cd', port=None, port_specified=False, domain='.guazi.com', domain_specified=True, domain_initial_dot=True, path='/', path_specified=True, secure=False, expires=1588572722, discard=False, comment=None, comment_url=None, rest={}, rfc2109=False), Cookie(version=0, name='cityGuideVersion', value='A', port=None, port_specified=False, domain='.guazi.com', domain_specified=True, domain_initial_dot=True, path='/', path_specified=True, secure=False, expires=1557040322, discard=False, comment=None, comment_url=None, rest={}, rfc2109=False), Cookie(version=0, name='clueSourceCode', value='%2A%2300', port=None, port_specified=False, domain='.guazi.com', domain_specified=True, domain_initial_dot=True, path='/', path_specified=True, secure=False, expires=None, discard=True, comment=None, comment_url=None, rest={}, rfc2109=False), Cookie(version=0, name='preTime', value='%7B%22last%22%3A1557036722%2C%22this%22%3A1557036722%2C%22pre%22%3A1557036722%7D', port=None, port_specified=False, domain='.guazi.com', domain_specified=True, domain_initial_dot=True, path='/', path_specified=True, secure=False, expires=1562220722, discard=False, comment=None, comment_url=None, rest={}, rfc2109=False), Cookie(version=0, name='user_city_id', value='45', port=None, port_specified=False, domain='.guazi.com', domain_specified=True, domain_initial_dot=True, path='/', path_specified=True, secure=False, expires=1557123122, discard=False, comment=None, comment_url=None, rest={}, rfc2109=False), Cookie(version=0, name='uuid', value='ee76e59c-2d5c-4ee7-b3a0-716758e85074', port=None, port_specified=False, domain='.guazi.com', domain_specified=True, domain_initial_dot=True, path='/', path_specified=True, secure=False, expires=1588140722, discard=False, comment=None, comment_url=None, rest={}, rfc2109=False)]>"
      ]
     },
     "execution_count": 28,
     "metadata": {},
     "output_type": "execute_result"
    }
   ],
   "source": [
    "result.cookies"
   ]
  },
  {
   "cell_type": "code",
   "execution_count": 36,
   "metadata": {},
   "outputs": [],
   "source": [
    "from lxml import etree\n",
    "tree = etree.HTML(result.content)"
   ]
  },
  {
   "cell_type": "code",
   "execution_count": 36,
   "metadata": {},
   "outputs": [],
   "source": [
    "import scrapy"
   ]
  },
  {
   "cell_type": "code",
   "execution_count": 41,
   "metadata": {},
   "outputs": [
    {
     "data": {
      "text/plain": [
       "<GET https://m.guazi.com/ajax.php?dir=vehicle&module=GetSelectCity&pageType=list>"
      ]
     },
     "execution_count": 41,
     "metadata": {},
     "output_type": "execute_result"
    }
   ],
   "source": [
    "urls = {\n",
    "        'baidu': 'https://www.baidu.com/',\n",
    "        'get_cookie': 'https://m.guazi.com/cd/?ca_s=pz_baidu&ca_n=tbmkbturl',\n",
    "        'city': 'https://m.guazi.com/ajax.php?dir=vehicle&module=GetSelectCity&pageType=list',\n",
    "        'brand': 'https://m.guazi.com/cd/buy/?act=changeBrand'\n",
    "        }\n",
    "\n",
    "HEADERS = {\n",
    "    \"Accept\": \"text/html,application/xhtml+xml,application/xml;q=0.9,*/*;q=0.8\",\n",
    "    \"Accept-Encoding\": \"gzip, deflate, br\",\n",
    "    \"Accept-Language\": \"en-US,en;q=0.5\",\n",
    "    \"Connection\": \"keep-alive\",\n",
    "    \"Host\": \"m.guazi.com\",\n",
    "    \"Referer\": \"https://m.guazi.com/cd/?ca_s=pz_baidu&ca_n=tbmkbturl\",\n",
    "    \"Upgrade-Insecure-Requests\": \"1\",\n",
    "    \"User-Agent\": \"Mozilla/5.0 (iPhone; CPU iPhone OS 12_0 like Mac OS X) AppleWebKit/604.1.38 (KHTML, like Gecko) Version/12.0 Mobile/15A372 Safari/604.1\"\n",
    "}\n",
    "\n",
    "# COOKIES = {'antipas': '4221403C87u50S537w24459', 'rfnl': 'https://m.guazi.com/cd/?ca_s=pz_baidu&ca_n=tbmkbturl'}\n",
    "COOKIES = {'__utmganji_v20110909': '3aae543d-1519-4812-ae9c-da69e688ef02',\n",
    "             'antipas': '4221f4N038X7p5053S7X24L4h59',\n",
    "             'cainfo': '%7B%22ca_s%22%3A%22self%22%2C%22ca_n%22%3A%22self%22%2C%22ca_i%22%3A%22-%22%2C%22ca_medium%22%3A%22-%22%2C%22ca_term%22%3A%22-%22%2C%22ca_kw%22%3A%22-%22%2C%22keyword%22%3A%22-%22%2C%22ca_keywordid%22%3A%22-%22%2C%22scode%22%3A%22-%22%2C%22ca_b%22%3A%22-%22%2C%22ca_a%22%3A%22-%22%2C%22display_finance_flag%22%3A%22-%22%2C%22platform%22%3A%222%22%2C%22version%22%3A1%2C%22client_ab%22%3A%22-%22%2C%22guid%22%3A%228bd5e963-82db-4f8a-ab8f-7298943d7320%22%2C%22sessionid%22%3A%22538e1103-27c5-40b8-dbd1-3acd69bcfb22%22%7D',\n",
    "             'chg_city': '1',\n",
    "             'cityDomain': 'cd',\n",
    "             'cityGuideInfo': '2019-5-5%231',\n",
    "             'cityGuideVersion': 'A',\n",
    "             'clueSourceCode': '%2A%2300',\n",
    "             'preTime': '%7B%22last%22%3A1557036165%2C%22this%22%3A1557036165%2C%22pre%22%3A1557036165%7D',\n",
    "             'sessionid': '538e1103-27c5-40b8-dbd1-3acd69bcfb22',\n",
    "             'user_city_id': '45',\n",
    "             'uuid': '8bd5e963-82db-4f8a-ab8f-7298943d7320'\n",
    "          }\n",
    "\n",
    "def parse_city(response):\n",
    "    try:\n",
    "        key = list(urls.keys())[list(urls.values()).index(response.url)]\n",
    "        filename = '../crawl_guazi/tmp/man.html'\n",
    "        with open(filename, 'wb') as f:\n",
    "            f.write(response.body)\n",
    "        print('ok')\n",
    "    except Exception as e:\n",
    "        print('exception')\n",
    "        \n",
    "scrapy.Request(url=urls['city'], headers=HEADERS, cookies=COOKIES, callback=parse_city)"
   ]
  },
  {
   "cell_type": "code",
   "execution_count": 39,
   "metadata": {},
   "outputs": [
    {
     "data": {
      "text/plain": [
       "b''"
      ]
     },
     "execution_count": 39,
     "metadata": {},
     "output_type": "execute_result"
    }
   ],
   "source": [
    "result.body"
   ]
  },
  {
   "cell_type": "code",
   "execution_count": null,
   "metadata": {},
   "outputs": [],
   "source": []
  }
 ],
 "metadata": {
  "kernelspec": {
   "display_name": "Python 3",
   "language": "python",
   "name": "python3"
  },
  "language_info": {
   "codemirror_mode": {
    "name": "ipython",
    "version": 3
   },
   "file_extension": ".py",
   "mimetype": "text/x-python",
   "name": "python",
   "nbconvert_exporter": "python",
   "pygments_lexer": "ipython3",
   "version": "3.5.2"
  }
 },
 "nbformat": 4,
 "nbformat_minor": 2
}
