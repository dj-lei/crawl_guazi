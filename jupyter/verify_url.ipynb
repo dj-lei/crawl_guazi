{
 "cells": [
  {
   "cell_type": "code",
   "execution_count": 4,
   "metadata": {},
   "outputs": [],
   "source": [
    "import re\n",
    "import json\n",
    "import codecs\n",
    "import requests\n",
    "import pandas as pd\n",
    "from lxml import etree"
   ]
  },
  {
   "cell_type": "code",
   "execution_count": 25,
   "metadata": {},
   "outputs": [],
   "source": [
    "url = 'https://m.guazi.com/changzhou/dazhong/'\n",
    "\n",
    "header = {\n",
    "    \"User-Agent\": \"Mozilla/5.0 (X11; Ubuntu; Linux x86_64; rv:66.0) Gecko/20100101 Firefox/66.0\",\n",
    "    \"cookie\": \"cainfo=%7B%22ca_s%22%3A%22pz_baidu%22%2C%22ca_n%22%3A%22tbmkbturl%22%2C%22ca_medium%22%3A%22-%22%2C%22ca_term%22%3A%22-%22%2C%22ca_content%22%3A%22%22%2C%22ca_campaign%22%3A%22%22%2C%22ca_kw%22%3A%22-%22%2C%22keyword%22%3A%22-%22%2C%22ca_keywordid%22%3A%22-%22%2C%22scode%22%3A%2210103000312%22%2C%22ca_transid%22%3A%22%22%2C%22platform%22%3A%222%22%2C%22version%22%3A1%2C%22ca_i%22%3A%22-%22%2C%22ca_b%22%3A%22-%22%2C%22ca_a%22%3A%221904b_qgg3qi%22%2C%22display_finance_flag%22%3A%22-%22%2C%22client_ab%22%3A%22-%22%2C%22guid%22%3A%229606d532-e781-476c-d085-020dc5ca8e29%22%2C%22sessionid%22%3A%2281969045-a5fc-4c32-9761-7b10f4161611%22%7D; uuid=9606d532-e781-476c-d085-020dc5ca8e29; cityDomain=changzhou; user_city_id=69; preTime=%7B%22last%22%3A1556167305%2C%22this%22%3A1555912819%2C%22pre%22%3A1555912819%7D; ganji_uuid=3697923462868752433136; antipas=542085B2026i7rdF59y6O02u3z; __utmganji_v20110909=d534f7ec-4388-40b0-f480-262956732220; zg_did=%7B%22did%22%3A%20%2216a43a71c1ff2-05c4b61f3b87c6-2e634637-4a574-16a43a71c22bc%22%7D; zg_7e763bc025fc4122af64893d9f28969f=%7B%22sid%22%3A%201556167156608%2C%22updated%22%3A%201556167489896%2C%22info%22%3A%201555913186355%2C%22superProperty%22%3A%20%22%7B%7D%22%2C%22platform%22%3A%20%22%7B%7D%22%2C%22utm%22%3A%20%22%7B%7D%22%2C%22referrerDomain%22%3A%20%22m.guazi.com%22%2C%22zs%22%3A%200%2C%22sc%22%3A%200%2C%22landHref%22%3A%20%22https%3A%2F%2Fm.guazi.com%2Fchangzhou%2Fdazhong%2F%22%7D; cityGuideInfo=2019-4-25%231; list_url=%2Fchangzhou%2Fdazhong%2F; lg=1; clueSourceCode=%2A%2300; sessionid=81969045-a5fc-4c32-9761-7b10f4161611; __tins__19717059=%7B%22sid%22%3A%201556167156491%2C%20%22vd%22%3A%2011%2C%20%22expires%22%3A%201556169284336%7D; __51cke__=; __51laig__=25; lng_lat=0; cityGuideVersion=B; chg_city=1\"\n",
    "}\n",
    "\n",
    "result = requests.get(url=url,headers=header)\n",
    "\n",
    "filename = '../crawl_guazi/tmp/man.html'\n",
    "with open(filename, 'wb') as f:\n",
    "    f.write(result.content)"
   ]
  },
  {
   "cell_type": "code",
   "execution_count": 5,
   "metadata": {},
   "outputs": [],
   "source": [
    "from lxml import etree\n",
    "tree = etree.HTML(result.content)"
   ]
  },
  {
   "cell_type": "code",
   "execution_count": 6,
   "metadata": {},
   "outputs": [
    {
     "data": {
      "text/plain": [
       "'大众 朗逸 2013款 改款经典 1.6L 自动舒适版'"
      ]
     },
     "execution_count": 6,
     "metadata": {},
     "output_type": "execute_result"
    }
   ],
   "source": [
    "tree.xpath(\"//h1[@class='product-title']/text()\")[1].replace('\\n', '').replace('  ', '')"
   ]
  },
  {
   "cell_type": "code",
   "execution_count": 3,
   "metadata": {},
   "outputs": [],
   "source": [
    "# 转换cookie\n",
    "result = dict()\n",
    "cookie = 'cainfo=%7B%22ca_s%22%3A%22pz_baidu%22%2C%22ca_n%22%3A%22tbmkbturl%22%2C%22ca_medium%22%3A%22-%22%2C%22ca_term%22%3A%22-%22%2C%22ca_content%22%3A%22%22%2C%22ca_campaign%22%3A%22%22%2C%22ca_kw%22%3A%22-%22%2C%22keyword%22%3A%22-%22%2C%22ca_keywordid%22%3A%22-%22%2C%22scode%22%3A%2210103000312%22%2C%22ca_transid%22%3A%22%22%2C%22platform%22%3A%222%22%2C%22version%22%3A1%2C%22ca_i%22%3A%22-%22%2C%22ca_b%22%3A%22-%22%2C%22ca_a%22%3A%221904b_qgg3qi%22%2C%22display_finance_flag%22%3A%22-%22%2C%22client_ab%22%3A%22-%22%2C%22guid%22%3A%229606d532-e781-476c-d085-020dc5ca8e29%22%2C%22sessionid%22%3A%2240431990-2def-4709-8ab0-564812120f75%22%7D; uuid=9606d532-e781-476c-d085-020dc5ca8e29; cityDomain=www; preTime=%7B%22last%22%3A1556941443%2C%22this%22%3A1555912819%2C%22pre%22%3A1555912819%7D; ganji_uuid=3697923462868752433136; antipas=4221E4f03z8Y750t5K3i724459; __utmganji_v20110909=d534f7ec-4388-40b0-f480-262956732220; zg_did=%7B%22did%22%3A%20%2216a43a71c1ff2-05c4b61f3b87c6-2e634637-4a574-16a43a71c22bc%22%7D; zg_7e763bc025fc4122af64893d9f28969f=%7B%22sid%22%3A%201556941440337%2C%22updated%22%3A%201556941450487%2C%22info%22%3A%201556935512769%2C%22superProperty%22%3A%20%22%7B%7D%22%2C%22platform%22%3A%20%22%7B%7D%22%2C%22utm%22%3A%20%22%7B%7D%22%2C%22referrerDomain%22%3A%20%22m.guazi.com%22%2C%22zs%22%3A%200%2C%22sc%22%3A%200%2C%22landHref%22%3A%20%22https%3A%2F%2Fm.guazi.com%2Fchangzhou%2Fdazhong%2F%22%7D; cityGuideInfo=2019-5-4%231; list_url=%2Fchangzhou%2Fdazhong%2F; lg=1; clueSourceCode=10103000312%2300; user_city_id=-1; sessionid=40431990-2def-4709-8ab0-564812120f75; _gl_tracker=%7B%22ca_source%22%3A%22-%22%2C%22ca_name%22%3A%22-%22%2C%22ca_kw%22%3A%22-%22%2C%22ca_id%22%3A%22-%22%2C%22ca_s%22%3A%22self%22%2C%22ca_n%22%3A%22-%22%2C%22ca_i%22%3A%22-%22%2C%22sid%22%3A36282295495%7D; __tins__19717059=%7B%22sid%22%3A%201556941440015%2C%20%22vd%22%3A%202%2C%20%22expires%22%3A%201556943243709%7D; __51cke__=; __51laig__=3; cityGuideVersion=B; lng_lat=0'\n",
    "cookie = cookie.replace(' ','').split(';')\n",
    "for i in range(0,len(cookie)):\n",
    "    temp = cookie[i].split('=')\n",
    "    result[temp[0]] = temp[1]"
   ]
  },
  {
   "cell_type": "code",
   "execution_count": 4,
   "metadata": {},
   "outputs": [
    {
     "data": {
      "text/plain": [
       "{'__51cke__': '',\n",
       " '__51laig__': '3',\n",
       " '__tins__19717059': '%7B%22sid%22%3A%201556941440015%2C%20%22vd%22%3A%202%2C%20%22expires%22%3A%201556943243709%7D',\n",
       " '__utmganji_v20110909': 'd534f7ec-4388-40b0-f480-262956732220',\n",
       " '_gl_tracker': '%7B%22ca_source%22%3A%22-%22%2C%22ca_name%22%3A%22-%22%2C%22ca_kw%22%3A%22-%22%2C%22ca_id%22%3A%22-%22%2C%22ca_s%22%3A%22self%22%2C%22ca_n%22%3A%22-%22%2C%22ca_i%22%3A%22-%22%2C%22sid%22%3A36282295495%7D',\n",
       " 'antipas': '4221E4f03z8Y750t5K3i724459',\n",
       " 'cainfo': '%7B%22ca_s%22%3A%22pz_baidu%22%2C%22ca_n%22%3A%22tbmkbturl%22%2C%22ca_medium%22%3A%22-%22%2C%22ca_term%22%3A%22-%22%2C%22ca_content%22%3A%22%22%2C%22ca_campaign%22%3A%22%22%2C%22ca_kw%22%3A%22-%22%2C%22keyword%22%3A%22-%22%2C%22ca_keywordid%22%3A%22-%22%2C%22scode%22%3A%2210103000312%22%2C%22ca_transid%22%3A%22%22%2C%22platform%22%3A%222%22%2C%22version%22%3A1%2C%22ca_i%22%3A%22-%22%2C%22ca_b%22%3A%22-%22%2C%22ca_a%22%3A%221904b_qgg3qi%22%2C%22display_finance_flag%22%3A%22-%22%2C%22client_ab%22%3A%22-%22%2C%22guid%22%3A%229606d532-e781-476c-d085-020dc5ca8e29%22%2C%22sessionid%22%3A%2240431990-2def-4709-8ab0-564812120f75%22%7D',\n",
       " 'cityDomain': 'www',\n",
       " 'cityGuideInfo': '2019-5-4%231',\n",
       " 'cityGuideVersion': 'B',\n",
       " 'clueSourceCode': '10103000312%2300',\n",
       " 'ganji_uuid': '3697923462868752433136',\n",
       " 'lg': '1',\n",
       " 'list_url': '%2Fchangzhou%2Fdazhong%2F',\n",
       " 'lng_lat': '0',\n",
       " 'preTime': '%7B%22last%22%3A1556941443%2C%22this%22%3A1555912819%2C%22pre%22%3A1555912819%7D',\n",
       " 'sessionid': '40431990-2def-4709-8ab0-564812120f75',\n",
       " 'user_city_id': '-1',\n",
       " 'uuid': '9606d532-e781-476c-d085-020dc5ca8e29',\n",
       " 'zg_7e763bc025fc4122af64893d9f28969f': '%7B%22sid%22%3A%201556941440337%2C%22updated%22%3A%201556941450487%2C%22info%22%3A%201556935512769%2C%22superProperty%22%3A%20%22%7B%7D%22%2C%22platform%22%3A%20%22%7B%7D%22%2C%22utm%22%3A%20%22%7B%7D%22%2C%22referrerDomain%22%3A%20%22m.guazi.com%22%2C%22zs%22%3A%200%2C%22sc%22%3A%200%2C%22landHref%22%3A%20%22https%3A%2F%2Fm.guazi.com%2Fchangzhou%2Fdazhong%2F%22%7D',\n",
       " 'zg_did': '%7B%22did%22%3A%20%2216a43a71c1ff2-05c4b61f3b87c6-2e634637-4a574-16a43a71c22bc%22%7D'}"
      ]
     },
     "execution_count": 4,
     "metadata": {},
     "output_type": "execute_result"
    }
   ],
   "source": [
    "result"
   ]
  },
  {
   "cell_type": "code",
   "execution_count": 35,
   "metadata": {},
   "outputs": [],
   "source": [
    "import requests\n",
    "url = 'https://www.guazi.com/cd/'\n",
    "\n",
    "header = {\n",
    "    \"User-Agent\": \"Mozilla/5.0 (iPhone; CPU iPhone OS 12_0 like Mac OS X) AppleWebKit/604.1.38 (KHTML, like Gecko) Version/12.0 Mobile/15A372 Safari/604.1\",\n",
    "#     \"cookie\": 'cainfo=%7B%22ca_s%22%3A%22pz_baidu%22%2C%22ca_n%22%3A%22tbmkbturl%22%2C%22ca_medium%22%3A%22-%22%2C%22ca_term%22%3A%22-%22%2C%22ca_content%22%3A%22%22%2C%22ca_campaign%22%3A%22%22%2C%22ca_kw%22%3A%22-%22%2C%22keyword%22%3A%22-%22%2C%22ca_keywordid%22%3A%22-%22%2C%22scode%22%3A%2210103000312%22%2C%22ca_transid%22%3A%22%22%2C%22platform%22%3A%222%22%2C%22version%22%3A1%2C%22ca_i%22%3A%22-%22%2C%22ca_b%22%3A%22-%22%2C%22ca_a%22%3A%221904b_qgg3qi%22%2C%22display_finance_flag%22%3A%22-%22%2C%22client_ab%22%3A%22-%22%2C%22guid%22%3A%229606d532-e781-476c-d085-020dc5ca8e29%22%2C%22sessionid%22%3A%2240431990-2def-4709-8ab0-564812120f75%22%7D; uuid=9606d532-e781-476c-d085-020dc5ca8e29; cityDomain=www; preTime=%7B%22last%22%3A1556941443%2C%22this%22%3A1555912819%2C%22pre%22%3A1555912819%7D; ganji_uuid=3697923462868752433136; antipas=4221E4f03z8Y750t5K3i724459; __utmganji_v20110909=d534f7ec-4388-40b0-f480-262956732220; zg_did=%7B%22did%22%3A%20%2216a43a71c1ff2-05c4b61f3b87c6-2e634637-4a574-16a43a71c22bc%22%7D; zg_7e763bc025fc4122af64893d9f28969f=%7B%22sid%22%3A%201556941440337%2C%22updated%22%3A%201556941450487%2C%22info%22%3A%201556935512769%2C%22superProperty%22%3A%20%22%7B%7D%22%2C%22platform%22%3A%20%22%7B%7D%22%2C%22utm%22%3A%20%22%7B%7D%22%2C%22referrerDomain%22%3A%20%22m.guazi.com%22%2C%22zs%22%3A%200%2C%22sc%22%3A%200%2C%22landHref%22%3A%20%22https%3A%2F%2Fm.guazi.com%2Fchangzhou%2Fdazhong%2F%22%7D; cityGuideInfo=2019-5-4%231; list_url=%2Fchangzhou%2Fdazhong%2F; lg=1; clueSourceCode=10103000312%2300; user_city_id=-1; sessionid=40431990-2def-4709-8ab0-564812120f75; _gl_tracker=%7B%22ca_source%22%3A%22-%22%2C%22ca_name%22%3A%22-%22%2C%22ca_kw%22%3A%22-%22%2C%22ca_id%22%3A%22-%22%2C%22ca_s%22%3A%22self%22%2C%22ca_n%22%3A%22-%22%2C%22ca_i%22%3A%22-%22%2C%22sid%22%3A36282295495%7D; __tins__19717059=%7B%22sid%22%3A%201556941440015%2C%20%22vd%22%3A%202%2C%20%22expires%22%3A%201556943243709%7D; __51cke__=; __51laig__=3; cityGuideVersion=B; lng_lat=0'\n",
    "}\n",
    "\n",
    "result = requests.get(url=url,headers=header)\n",
    "\n",
    "filename = '../crawl_guazi/tmp/man.html'\n",
    "with open(filename, 'wb') as f:\n",
    "    f.write(result.content)"
   ]
  },
  {
   "cell_type": "code",
   "execution_count": 36,
   "metadata": {},
   "outputs": [],
   "source": [
    "from lxml import etree\n",
    "tree = etree.HTML(result.content)"
   ]
  },
  {
   "cell_type": "code",
   "execution_count": 32,
   "metadata": {},
   "outputs": [
    {
     "ename": "IndexError",
     "evalue": "list index out of range",
     "output_type": "error",
     "traceback": [
      "\u001b[0;31m---------------------------------------------------------------------------\u001b[0m",
      "\u001b[0;31mIndexError\u001b[0m                                Traceback (most recent call last)",
      "\u001b[0;32m<ipython-input-32-f96169704c75>\u001b[0m in \u001b[0;36m<module>\u001b[0;34m\u001b[0m\n\u001b[0;32m----> 1\u001b[0;31m \u001b[0mtest\u001b[0m \u001b[0;34m=\u001b[0m \u001b[0mfloat\u001b[0m\u001b[0;34m(\u001b[0m\u001b[0mtree\u001b[0m\u001b[0;34m.\u001b[0m\u001b[0mxpath\u001b[0m\u001b[0;34m(\u001b[0m\u001b[0;34m\"//span[@class='normal-price']/text()\"\u001b[0m\u001b[0;34m)\u001b[0m\u001b[0;34m[\u001b[0m\u001b[0;36m0\u001b[0m\u001b[0;34m]\u001b[0m\u001b[0;34m)\u001b[0m\u001b[0;34m\u001b[0m\u001b[0m\n\u001b[0m\u001b[1;32m      2\u001b[0m \u001b[0mtest\u001b[0m\u001b[0;34m\u001b[0m\u001b[0m\n",
      "\u001b[0;31mIndexError\u001b[0m: list index out of range"
     ]
    }
   ],
   "source": [
    "test = float(tree.xpath(\"//span[@class='normal-price']/text()\")[0])\n",
    "test"
   ]
  },
  {
   "cell_type": "code",
   "execution_count": 33,
   "metadata": {},
   "outputs": [
    {
     "ename": "SyntaxError",
     "evalue": "'break' outside loop (<ipython-input-33-e206f28b96b1>, line 5)",
     "output_type": "error",
     "traceback": [
      "\u001b[0;36m  File \u001b[0;32m\"<ipython-input-33-e206f28b96b1>\"\u001b[0;36m, line \u001b[0;32m5\u001b[0m\n\u001b[0;31mSyntaxError\u001b[0m\u001b[0;31m:\u001b[0m 'break' outside loop\n"
     ]
    }
   ],
   "source": [
    "if True:\n",
    "    break\n",
    "print('hello')"
   ]
  },
  {
   "cell_type": "code",
   "execution_count": null,
   "metadata": {},
   "outputs": [],
   "source": []
  }
 ],
 "metadata": {
  "kernelspec": {
   "display_name": "Python 3",
   "language": "python",
   "name": "python3"
  },
  "language_info": {
   "codemirror_mode": {
    "name": "ipython",
    "version": 3
   },
   "file_extension": ".py",
   "mimetype": "text/x-python",
   "name": "python",
   "nbconvert_exporter": "python",
   "pygments_lexer": "ipython3",
   "version": "3.5.2"
  }
 },
 "nbformat": 4,
 "nbformat_minor": 2
}
